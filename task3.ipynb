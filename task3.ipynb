{
 "cells": [
  {
   "cell_type": "code",
   "execution_count": 4,
   "metadata": {},
   "outputs": [],
   "source": [
    "import pandas as pd\n",
    "import pandahouse as ph\n",
    "\n",
    "from datetime import datetime\n",
    "\n",
    "#import seaborn as sns\n",
    "#import matplotlib.pyplot as plt\n",
    "#import numpy as np\n",
    "#import re\n",
    "#%matplotlib inline"
   ]
  },
  {
   "cell_type": "code",
   "execution_count": 5,
   "metadata": {},
   "outputs": [],
   "source": [
    "connection_default = {'host': 'http://clickhouse.beslan.pro:8080',\n",
    "'database':'default',\n",
    "'user':'student',\n",
    "'password':'dpo_python_2020'\n",
    "}"
   ]
  },
  {
   "cell_type": "code",
   "execution_count": 6,
   "metadata": {},
   "outputs": [],
   "source": [
    "logistic_online = pd.read_csv('logistic_online.csv')\n",
    "\n",
    "q2 = '''\n",
    "SELECT\n",
    "    *\n",
    "FROM\n",
    "    default.product_online\n",
    "'''\n",
    "product_online = ph.read_clickhouse(query=q2, connection=connection_default)\n",
    "\n",
    "q3 = '''\n",
    "SELECT\n",
    "    *\n",
    "FROM\n",
    "    default.returns_online\n",
    "'''\n",
    "returns_online = ph.read_clickhouse(query=q3, connection=connection_default)\n"
   ]
  },
  {
   "cell_type": "markdown",
   "metadata": {},
   "source": [
    "# Предобработка данных"
   ]
  },
  {
   "cell_type": "markdown",
   "metadata": {},
   "source": [
    " "
   ]
  },
  {
   "cell_type": "markdown",
   "metadata": {},
   "source": [
    "# logistic_online"
   ]
  },
  {
   "cell_type": "code",
   "execution_count": 7,
   "metadata": {},
   "outputs": [],
   "source": [
    "df_log = logistic_online"
   ]
  },
  {
   "cell_type": "markdown",
   "metadata": {},
   "source": [
    "**date_order** - дата, в которую клиент оформляет заказ\n",
    "\n",
    "**number_order** - уникальный номер заказа клиента (в столбце номер может повторяться, т.к. заказы переносятся и имеют раные даты доставки)\n",
    "\n",
    "**timeslot_number** - нумерация кол-ва попыток доставить в плановую дату доставки. Если доставка не была осуществлена, то заказ переносится на новую дату\n",
    "\n",
    "**result_data_order** - дата, в которую заказ был доставлен клиенту\n",
    "\n",
    "**delivery_type** - выбранный клиентом способ получения заказа (курьерка или самовывоз)\n",
    "\n",
    "**carrier_name** - перевозчик, которым заказ доставляется клиенту\n",
    "\n",
    "**seller_ID** - уникальный идентификатор продавца\n",
    "\n",
    "**order_status** - последний актуальный статус заказа (фиксируется во всех строках последний статус заказа)\n",
    "\n",
    "**customer_cluster** - региональная принадлежность клиента\n",
    "\n",
    "**warehouse_cluster** - региональная принадлежность продавца"
   ]
  },
  {
   "cell_type": "markdown",
   "metadata": {},
   "source": [
    "                                                Смотрим датафрейм"
   ]
  },
  {
   "cell_type": "code",
   "execution_count": 8,
   "metadata": {
    "scrolled": true
   },
   "outputs": [
    {
     "data": {
      "text/html": [
       "<div>\n",
       "<style scoped>\n",
       "    .dataframe tbody tr th:only-of-type {\n",
       "        vertical-align: middle;\n",
       "    }\n",
       "\n",
       "    .dataframe tbody tr th {\n",
       "        vertical-align: top;\n",
       "    }\n",
       "\n",
       "    .dataframe thead th {\n",
       "        text-align: right;\n",
       "    }\n",
       "</style>\n",
       "<table border=\"1\" class=\"dataframe\">\n",
       "  <thead>\n",
       "    <tr style=\"text-align: right;\">\n",
       "      <th></th>\n",
       "      <th>date_order</th>\n",
       "      <th>number_order</th>\n",
       "      <th>planned_data_order</th>\n",
       "      <th>timeslot_number</th>\n",
       "      <th>result_data_order</th>\n",
       "      <th>delivery_type</th>\n",
       "      <th>carrier_name</th>\n",
       "      <th>seller_ID</th>\n",
       "      <th>order_status</th>\n",
       "      <th>customer_cluster</th>\n",
       "      <th>warehouse_cluster</th>\n",
       "    </tr>\n",
       "  </thead>\n",
       "  <tbody>\n",
       "    <tr>\n",
       "      <th>0</th>\n",
       "      <td>2021-5-01</td>\n",
       "      <td>313655114</td>\n",
       "      <td>2021-14-01</td>\n",
       "      <td>1</td>\n",
       "      <td>2021-11-01</td>\n",
       "      <td>Самовывоз</td>\n",
       "      <td>3PL 1</td>\n",
       "      <td>301202</td>\n",
       "      <td>Доставлен</td>\n",
       "      <td>Кластер Краснодар</td>\n",
       "      <td>Кластер Москва</td>\n",
       "    </tr>\n",
       "    <tr>\n",
       "      <th>1</th>\n",
       "      <td>2021-3-01</td>\n",
       "      <td>315229153</td>\n",
       "      <td>2021-11-01</td>\n",
       "      <td>1</td>\n",
       "      <td>2021-8-01</td>\n",
       "      <td>Курьер</td>\n",
       "      <td>Самодоставка</td>\n",
       "      <td>40560</td>\n",
       "      <td>Доставлен</td>\n",
       "      <td>Кластер Московская область</td>\n",
       "      <td>Кластер Московская область</td>\n",
       "    </tr>\n",
       "    <tr>\n",
       "      <th>2</th>\n",
       "      <td>2021-8-01</td>\n",
       "      <td>3114106095</td>\n",
       "      <td>2021-16-01</td>\n",
       "      <td>1</td>\n",
       "      <td>2021-14-01</td>\n",
       "      <td>Курьер</td>\n",
       "      <td>Самодоставка</td>\n",
       "      <td>40560</td>\n",
       "      <td>Доставлен</td>\n",
       "      <td>Кластер Московская область</td>\n",
       "      <td>Кластер Московская область</td>\n",
       "    </tr>\n",
       "    <tr>\n",
       "      <th>3</th>\n",
       "      <td>2021-12-01</td>\n",
       "      <td>31145541407</td>\n",
       "      <td>2021-20-01</td>\n",
       "      <td>1</td>\n",
       "      <td>2021-15-01</td>\n",
       "      <td>Самовывоз</td>\n",
       "      <td>3PL 1</td>\n",
       "      <td>301202</td>\n",
       "      <td>Доставлен</td>\n",
       "      <td>Кластер Санкт-Петербург</td>\n",
       "      <td>Кластер Москва</td>\n",
       "    </tr>\n",
       "    <tr>\n",
       "      <th>4</th>\n",
       "      <td>2021-16-01</td>\n",
       "      <td>325050136</td>\n",
       "      <td>2021-26-01</td>\n",
       "      <td>1</td>\n",
       "      <td>2021-25-01</td>\n",
       "      <td>Самовывоз</td>\n",
       "      <td>3PL 1</td>\n",
       "      <td>946233</td>\n",
       "      <td>Доставлен</td>\n",
       "      <td>Кластер Санкт-Петербург</td>\n",
       "      <td>Кластер Санкт-Петербург</td>\n",
       "    </tr>\n",
       "  </tbody>\n",
       "</table>\n",
       "</div>"
      ],
      "text/plain": [
       "   date_order  number_order planned_data_order  timeslot_number  \\\n",
       "0   2021-5-01     313655114         2021-14-01                1   \n",
       "1   2021-3-01     315229153         2021-11-01                1   \n",
       "2   2021-8-01    3114106095         2021-16-01                1   \n",
       "3  2021-12-01   31145541407         2021-20-01                1   \n",
       "4  2021-16-01     325050136         2021-26-01                1   \n",
       "\n",
       "  result_data_order delivery_type  carrier_name  seller_ID order_status  \\\n",
       "0        2021-11-01     Самовывоз         3PL 1     301202    Доставлен   \n",
       "1         2021-8-01        Курьер  Самодоставка      40560    Доставлен   \n",
       "2        2021-14-01        Курьер  Самодоставка      40560    Доставлен   \n",
       "3        2021-15-01     Самовывоз         3PL 1     301202    Доставлен   \n",
       "4        2021-25-01     Самовывоз         3PL 1     946233    Доставлен   \n",
       "\n",
       "             customer_cluster           warehouse_cluster  \n",
       "0           Кластер Краснодар              Кластер Москва  \n",
       "1  Кластер Московская область  Кластер Московская область  \n",
       "2  Кластер Московская область  Кластер Московская область  \n",
       "3     Кластер Санкт-Петербург              Кластер Москва  \n",
       "4     Кластер Санкт-Петербург     Кластер Санкт-Петербург  "
      ]
     },
     "execution_count": 8,
     "metadata": {},
     "output_type": "execute_result"
    }
   ],
   "source": [
    "df_log.head()"
   ]
  },
  {
   "cell_type": "code",
   "execution_count": 9,
   "metadata": {
    "scrolled": true
   },
   "outputs": [
    {
     "data": {
      "text/plain": [
       "date_order            object\n",
       "number_order           int64\n",
       "planned_data_order    object\n",
       "timeslot_number        int64\n",
       "result_data_order     object\n",
       "delivery_type         object\n",
       "carrier_name          object\n",
       "seller_ID              int64\n",
       "order_status          object\n",
       "customer_cluster      object\n",
       "warehouse_cluster     object\n",
       "dtype: object"
      ]
     },
     "execution_count": 9,
     "metadata": {},
     "output_type": "execute_result"
    }
   ],
   "source": [
    "df_log.dtypes"
   ]
  },
  {
   "cell_type": "code",
   "execution_count": 10,
   "metadata": {},
   "outputs": [
    {
     "data": {
      "text/plain": [
       "date_order            625\n",
       "number_order            0\n",
       "planned_data_order      0\n",
       "timeslot_number         0\n",
       "result_data_order     890\n",
       "delivery_type           0\n",
       "carrier_name            0\n",
       "seller_ID               0\n",
       "order_status            0\n",
       "customer_cluster        0\n",
       "warehouse_cluster       0\n",
       "dtype: int64"
      ]
     },
     "execution_count": 10,
     "metadata": {},
     "output_type": "execute_result"
    }
   ],
   "source": [
    "df_log.isna().sum()"
   ]
  },
  {
   "cell_type": "code",
   "execution_count": 11,
   "metadata": {},
   "outputs": [
    {
     "data": {
      "text/plain": [
       "Кластер Москва                1808\n",
       "Кластер Екатеринбург          1133\n",
       "Кластер Московская область     843\n",
       "Кластер Краснодар              710\n",
       "Кластер Санкт-Петербург        565\n",
       "Кластер Казань                 512\n",
       "Кластер Центр                  472\n",
       "Кластер Новосибирск            225\n",
       "Кластер Северо-Запад           200\n",
       "Кластер Хабаровск               58\n",
       "Кластер Калининград             37\n",
       "Кластер Якутия                  34\n",
       "Name: customer_cluster, dtype: int64"
      ]
     },
     "execution_count": 11,
     "metadata": {},
     "output_type": "execute_result"
    }
   ],
   "source": [
    "df_log.customer_cluster.value_counts()"
   ]
  },
  {
   "cell_type": "code",
   "execution_count": 12,
   "metadata": {},
   "outputs": [
    {
     "data": {
      "text/plain": [
       "Кластер Москва                1752\n",
       "Кластер Екатеринбург          1148\n",
       "Кластер Московская область    1075\n",
       "Кластер Казань                 617\n",
       "Кластер Краснодар              588\n",
       "Кластер Санкт-Петербург        470\n",
       "Кластер Новосибирск            390\n",
       "Кластер Центр                  246\n",
       "Кластер Северо-Запад           205\n",
       "Кластер Калининград             96\n",
       "Кластер Хабаровск               10\n",
       "Name: warehouse_cluster, dtype: int64"
      ]
     },
     "execution_count": 12,
     "metadata": {},
     "output_type": "execute_result"
    }
   ],
   "source": [
    "df_log.warehouse_cluster.value_counts()"
   ]
  },
  {
   "cell_type": "code",
   "execution_count": 13,
   "metadata": {},
   "outputs": [
    {
     "data": {
      "text/plain": [
       "Курьер       3502\n",
       "Самовывоз    3095\n",
       "Name: delivery_type, dtype: int64"
      ]
     },
     "execution_count": 13,
     "metadata": {},
     "output_type": "execute_result"
    }
   ],
   "source": [
    "df_log.delivery_type.value_counts()"
   ]
  },
  {
   "cell_type": "code",
   "execution_count": 14,
   "metadata": {},
   "outputs": [
    {
     "data": {
      "text/plain": [
       "Самодоставка    2109\n",
       "3PL 2           1890\n",
       "3PL 1           1827\n",
       "3PL 3            517\n",
       "3PL 4            254\n",
       "Name: carrier_name, dtype: int64"
      ]
     },
     "execution_count": 14,
     "metadata": {},
     "output_type": "execute_result"
    }
   ],
   "source": [
    "df_log.carrier_name.value_counts()"
   ]
  },
  {
   "cell_type": "code",
   "execution_count": 15,
   "metadata": {},
   "outputs": [
    {
     "data": {
      "text/plain": [
       "Доставлен            5694\n",
       "На пути к клиенту     423\n",
       "Отменен               334\n",
       "Ожидает сборки        142\n",
       "Спор                    4\n",
       "Name: order_status, dtype: int64"
      ]
     },
     "execution_count": 15,
     "metadata": {},
     "output_type": "execute_result"
    }
   ],
   "source": [
    "df_log.order_status.value_counts()"
   ]
  },
  {
   "cell_type": "markdown",
   "metadata": {},
   "source": [
    "                                                    ВЫВОД\n",
    "Необходимо привести даты к типу datetime в 3 колонках."
   ]
  },
  {
   "cell_type": "code",
   "execution_count": 16,
   "metadata": {},
   "outputs": [],
   "source": [
    "df_log = df_log.reset_index()"
   ]
  },
  {
   "cell_type": "code",
   "execution_count": null,
   "metadata": {},
   "outputs": [],
   "source": []
  },
  {
   "cell_type": "code",
   "execution_count": 17,
   "metadata": {},
   "outputs": [],
   "source": [
    "def correct_date(df, column):\n",
    "    date_list1 = list()\n",
    "    for i in df[column]:\n",
    "        date = i.split('-')\n",
    "            # исправляем день месяца (добавляем 0 в начало)\n",
    "        if int(date[1]) < 10 and len(date[1]) > 2:\n",
    "            date[1] = '0' + date[1]\n",
    "            # исправляем номер месяца (оставляем 2 цифры)\n",
    "        if len(date[2]) == 3:\n",
    "            date[2] = date[2][1:]\n",
    "        date1 = pd.to_datetime(date[0] + '-' + date[2] + '-' + date[1])\n",
    "        date_list1.append(date1)\n",
    "    return date_list1\n"
   ]
  },
  {
   "cell_type": "code",
   "execution_count": 18,
   "metadata": {
    "scrolled": true
   },
   "outputs": [],
   "source": [
    "#Датафрейм для корректировки date_order\n",
    "df_date_order = df_log[['index','date_order']].dropna()\n",
    "\n",
    "#Датафрейм для корректировки дат date_order \n",
    "df_date_order['correct_date_order'] = correct_date(df_date_order, 'date_order')\n",
    "df_date_order = df_date_order.drop(columns=['date_order'])\n"
   ]
  },
  {
   "cell_type": "code",
   "execution_count": 19,
   "metadata": {},
   "outputs": [],
   "source": [
    "#Датафрейм для корректировки date_order\n",
    "df_planned_data_order = df_log[['index','planned_data_order']].dropna()\n",
    "\n",
    "#Датафрейм для корректировки дат date_order \n",
    "df_planned_data_order['correct_planned_data_order'] = correct_date(df_planned_data_order, 'planned_data_order')\n",
    "df_planned_data_order = df_planned_data_order.drop(columns=['planned_data_order'])"
   ]
  },
  {
   "cell_type": "code",
   "execution_count": 20,
   "metadata": {},
   "outputs": [],
   "source": [
    "#Датафрейм для корректировки date_order\n",
    "df_result_data_order = df_log[['index','result_data_order']].dropna()\n",
    "\n",
    "#Датафрейм для корректировки дат date_order \n",
    "df_result_data_order['correct_result_data_order'] = correct_date(df_result_data_order, 'result_data_order')\n",
    "df_result_data_order = df_result_data_order.drop(columns=['result_data_order'])\n"
   ]
  },
  {
   "cell_type": "code",
   "execution_count": 21,
   "metadata": {},
   "outputs": [],
   "source": [
    "# Добавляем колонки с исправленными датами к исходному датафрейму\n",
    "df_log = df_log.merge(df_date_order, on='index', how='left')\n",
    "df_log = df_log.merge(df_planned_data_order, on='index', how='left')\n",
    "df_log = df_log.merge(df_result_data_order, on='index', how='left')"
   ]
  },
  {
   "cell_type": "code",
   "execution_count": 22,
   "metadata": {},
   "outputs": [
    {
     "data": {
      "text/html": [
       "<div>\n",
       "<style scoped>\n",
       "    .dataframe tbody tr th:only-of-type {\n",
       "        vertical-align: middle;\n",
       "    }\n",
       "\n",
       "    .dataframe tbody tr th {\n",
       "        vertical-align: top;\n",
       "    }\n",
       "\n",
       "    .dataframe thead th {\n",
       "        text-align: right;\n",
       "    }\n",
       "</style>\n",
       "<table border=\"1\" class=\"dataframe\">\n",
       "  <thead>\n",
       "    <tr style=\"text-align: right;\">\n",
       "      <th></th>\n",
       "      <th>index</th>\n",
       "      <th>date_order</th>\n",
       "      <th>number_order</th>\n",
       "      <th>planned_data_order</th>\n",
       "      <th>timeslot_number</th>\n",
       "      <th>result_data_order</th>\n",
       "      <th>delivery_type</th>\n",
       "      <th>carrier_name</th>\n",
       "      <th>seller_ID</th>\n",
       "      <th>order_status</th>\n",
       "      <th>customer_cluster</th>\n",
       "      <th>warehouse_cluster</th>\n",
       "      <th>correct_date_order</th>\n",
       "      <th>correct_planned_data_order</th>\n",
       "      <th>correct_result_data_order</th>\n",
       "    </tr>\n",
       "  </thead>\n",
       "  <tbody>\n",
       "    <tr>\n",
       "      <th>0</th>\n",
       "      <td>0</td>\n",
       "      <td>2021-5-01</td>\n",
       "      <td>313655114</td>\n",
       "      <td>2021-14-01</td>\n",
       "      <td>1</td>\n",
       "      <td>2021-11-01</td>\n",
       "      <td>Самовывоз</td>\n",
       "      <td>3PL 1</td>\n",
       "      <td>301202</td>\n",
       "      <td>Доставлен</td>\n",
       "      <td>Кластер Краснодар</td>\n",
       "      <td>Кластер Москва</td>\n",
       "      <td>2021-01-05</td>\n",
       "      <td>2021-01-14</td>\n",
       "      <td>2021-01-11</td>\n",
       "    </tr>\n",
       "    <tr>\n",
       "      <th>1</th>\n",
       "      <td>1</td>\n",
       "      <td>2021-3-01</td>\n",
       "      <td>315229153</td>\n",
       "      <td>2021-11-01</td>\n",
       "      <td>1</td>\n",
       "      <td>2021-8-01</td>\n",
       "      <td>Курьер</td>\n",
       "      <td>Самодоставка</td>\n",
       "      <td>40560</td>\n",
       "      <td>Доставлен</td>\n",
       "      <td>Кластер Московская область</td>\n",
       "      <td>Кластер Московская область</td>\n",
       "      <td>2021-01-03</td>\n",
       "      <td>2021-01-11</td>\n",
       "      <td>2021-01-08</td>\n",
       "    </tr>\n",
       "    <tr>\n",
       "      <th>2</th>\n",
       "      <td>2</td>\n",
       "      <td>2021-8-01</td>\n",
       "      <td>3114106095</td>\n",
       "      <td>2021-16-01</td>\n",
       "      <td>1</td>\n",
       "      <td>2021-14-01</td>\n",
       "      <td>Курьер</td>\n",
       "      <td>Самодоставка</td>\n",
       "      <td>40560</td>\n",
       "      <td>Доставлен</td>\n",
       "      <td>Кластер Московская область</td>\n",
       "      <td>Кластер Московская область</td>\n",
       "      <td>2021-01-08</td>\n",
       "      <td>2021-01-16</td>\n",
       "      <td>2021-01-14</td>\n",
       "    </tr>\n",
       "    <tr>\n",
       "      <th>3</th>\n",
       "      <td>3</td>\n",
       "      <td>2021-12-01</td>\n",
       "      <td>31145541407</td>\n",
       "      <td>2021-20-01</td>\n",
       "      <td>1</td>\n",
       "      <td>2021-15-01</td>\n",
       "      <td>Самовывоз</td>\n",
       "      <td>3PL 1</td>\n",
       "      <td>301202</td>\n",
       "      <td>Доставлен</td>\n",
       "      <td>Кластер Санкт-Петербург</td>\n",
       "      <td>Кластер Москва</td>\n",
       "      <td>2021-01-12</td>\n",
       "      <td>2021-01-20</td>\n",
       "      <td>2021-01-15</td>\n",
       "    </tr>\n",
       "    <tr>\n",
       "      <th>4</th>\n",
       "      <td>4</td>\n",
       "      <td>2021-16-01</td>\n",
       "      <td>325050136</td>\n",
       "      <td>2021-26-01</td>\n",
       "      <td>1</td>\n",
       "      <td>2021-25-01</td>\n",
       "      <td>Самовывоз</td>\n",
       "      <td>3PL 1</td>\n",
       "      <td>946233</td>\n",
       "      <td>Доставлен</td>\n",
       "      <td>Кластер Санкт-Петербург</td>\n",
       "      <td>Кластер Санкт-Петербург</td>\n",
       "      <td>2021-01-16</td>\n",
       "      <td>2021-01-26</td>\n",
       "      <td>2021-01-25</td>\n",
       "    </tr>\n",
       "  </tbody>\n",
       "</table>\n",
       "</div>"
      ],
      "text/plain": [
       "   index  date_order  number_order planned_data_order  timeslot_number  \\\n",
       "0      0   2021-5-01     313655114         2021-14-01                1   \n",
       "1      1   2021-3-01     315229153         2021-11-01                1   \n",
       "2      2   2021-8-01    3114106095         2021-16-01                1   \n",
       "3      3  2021-12-01   31145541407         2021-20-01                1   \n",
       "4      4  2021-16-01     325050136         2021-26-01                1   \n",
       "\n",
       "  result_data_order delivery_type  carrier_name  seller_ID order_status  \\\n",
       "0        2021-11-01     Самовывоз         3PL 1     301202    Доставлен   \n",
       "1         2021-8-01        Курьер  Самодоставка      40560    Доставлен   \n",
       "2        2021-14-01        Курьер  Самодоставка      40560    Доставлен   \n",
       "3        2021-15-01     Самовывоз         3PL 1     301202    Доставлен   \n",
       "4        2021-25-01     Самовывоз         3PL 1     946233    Доставлен   \n",
       "\n",
       "             customer_cluster           warehouse_cluster correct_date_order  \\\n",
       "0           Кластер Краснодар              Кластер Москва         2021-01-05   \n",
       "1  Кластер Московская область  Кластер Московская область         2021-01-03   \n",
       "2  Кластер Московская область  Кластер Московская область         2021-01-08   \n",
       "3     Кластер Санкт-Петербург              Кластер Москва         2021-01-12   \n",
       "4     Кластер Санкт-Петербург     Кластер Санкт-Петербург         2021-01-16   \n",
       "\n",
       "  correct_planned_data_order correct_result_data_order  \n",
       "0                 2021-01-14                2021-01-11  \n",
       "1                 2021-01-11                2021-01-08  \n",
       "2                 2021-01-16                2021-01-14  \n",
       "3                 2021-01-20                2021-01-15  \n",
       "4                 2021-01-26                2021-01-25  "
      ]
     },
     "execution_count": 22,
     "metadata": {},
     "output_type": "execute_result"
    }
   ],
   "source": [
    "df_log.head()"
   ]
  },
  {
   "cell_type": "code",
   "execution_count": 23,
   "metadata": {},
   "outputs": [],
   "source": [
    "# Приводим датафрейм к исходному виду с исправленными датами\n",
    "df_log = df_log.drop(columns=['index', 'date_order', 'planned_data_order', 'result_data_order'])\n",
    "\n",
    "df_log = df_log[['correct_date_order', 'number_order', 'correct_planned_data_order',\n",
    "                'timeslot_number', 'correct_result_data_order', 'delivery_type', 'carrier_name',\n",
    "                'seller_ID', 'order_status', 'customer_cluster', 'warehouse_cluster']]\n",
    "\n",
    "df_log = df_log.rename(columns={'correct_date_order'        : 'date_order', \n",
    "                                'correct_planned_data_order': 'planned_data_order', \n",
    "                                'correct_result_data_order' : 'result_data_order'})"
   ]
  },
  {
   "cell_type": "code",
   "execution_count": 24,
   "metadata": {},
   "outputs": [
    {
     "data": {
      "text/html": [
       "<div>\n",
       "<style scoped>\n",
       "    .dataframe tbody tr th:only-of-type {\n",
       "        vertical-align: middle;\n",
       "    }\n",
       "\n",
       "    .dataframe tbody tr th {\n",
       "        vertical-align: top;\n",
       "    }\n",
       "\n",
       "    .dataframe thead th {\n",
       "        text-align: right;\n",
       "    }\n",
       "</style>\n",
       "<table border=\"1\" class=\"dataframe\">\n",
       "  <thead>\n",
       "    <tr style=\"text-align: right;\">\n",
       "      <th></th>\n",
       "      <th>date_order</th>\n",
       "      <th>number_order</th>\n",
       "      <th>planned_data_order</th>\n",
       "      <th>timeslot_number</th>\n",
       "      <th>result_data_order</th>\n",
       "      <th>delivery_type</th>\n",
       "      <th>carrier_name</th>\n",
       "      <th>seller_ID</th>\n",
       "      <th>order_status</th>\n",
       "      <th>customer_cluster</th>\n",
       "      <th>warehouse_cluster</th>\n",
       "    </tr>\n",
       "  </thead>\n",
       "  <tbody>\n",
       "    <tr>\n",
       "      <th>0</th>\n",
       "      <td>2021-01-05</td>\n",
       "      <td>313655114</td>\n",
       "      <td>2021-01-14</td>\n",
       "      <td>1</td>\n",
       "      <td>2021-01-11</td>\n",
       "      <td>Самовывоз</td>\n",
       "      <td>3PL 1</td>\n",
       "      <td>301202</td>\n",
       "      <td>Доставлен</td>\n",
       "      <td>Кластер Краснодар</td>\n",
       "      <td>Кластер Москва</td>\n",
       "    </tr>\n",
       "    <tr>\n",
       "      <th>1</th>\n",
       "      <td>2021-01-03</td>\n",
       "      <td>315229153</td>\n",
       "      <td>2021-01-11</td>\n",
       "      <td>1</td>\n",
       "      <td>2021-01-08</td>\n",
       "      <td>Курьер</td>\n",
       "      <td>Самодоставка</td>\n",
       "      <td>40560</td>\n",
       "      <td>Доставлен</td>\n",
       "      <td>Кластер Московская область</td>\n",
       "      <td>Кластер Московская область</td>\n",
       "    </tr>\n",
       "    <tr>\n",
       "      <th>2</th>\n",
       "      <td>2021-01-08</td>\n",
       "      <td>3114106095</td>\n",
       "      <td>2021-01-16</td>\n",
       "      <td>1</td>\n",
       "      <td>2021-01-14</td>\n",
       "      <td>Курьер</td>\n",
       "      <td>Самодоставка</td>\n",
       "      <td>40560</td>\n",
       "      <td>Доставлен</td>\n",
       "      <td>Кластер Московская область</td>\n",
       "      <td>Кластер Московская область</td>\n",
       "    </tr>\n",
       "    <tr>\n",
       "      <th>3</th>\n",
       "      <td>2021-01-12</td>\n",
       "      <td>31145541407</td>\n",
       "      <td>2021-01-20</td>\n",
       "      <td>1</td>\n",
       "      <td>2021-01-15</td>\n",
       "      <td>Самовывоз</td>\n",
       "      <td>3PL 1</td>\n",
       "      <td>301202</td>\n",
       "      <td>Доставлен</td>\n",
       "      <td>Кластер Санкт-Петербург</td>\n",
       "      <td>Кластер Москва</td>\n",
       "    </tr>\n",
       "    <tr>\n",
       "      <th>4</th>\n",
       "      <td>2021-01-16</td>\n",
       "      <td>325050136</td>\n",
       "      <td>2021-01-26</td>\n",
       "      <td>1</td>\n",
       "      <td>2021-01-25</td>\n",
       "      <td>Самовывоз</td>\n",
       "      <td>3PL 1</td>\n",
       "      <td>946233</td>\n",
       "      <td>Доставлен</td>\n",
       "      <td>Кластер Санкт-Петербург</td>\n",
       "      <td>Кластер Санкт-Петербург</td>\n",
       "    </tr>\n",
       "  </tbody>\n",
       "</table>\n",
       "</div>"
      ],
      "text/plain": [
       "  date_order  number_order planned_data_order  timeslot_number  \\\n",
       "0 2021-01-05     313655114         2021-01-14                1   \n",
       "1 2021-01-03     315229153         2021-01-11                1   \n",
       "2 2021-01-08    3114106095         2021-01-16                1   \n",
       "3 2021-01-12   31145541407         2021-01-20                1   \n",
       "4 2021-01-16     325050136         2021-01-26                1   \n",
       "\n",
       "  result_data_order delivery_type  carrier_name  seller_ID order_status  \\\n",
       "0        2021-01-11     Самовывоз         3PL 1     301202    Доставлен   \n",
       "1        2021-01-08        Курьер  Самодоставка      40560    Доставлен   \n",
       "2        2021-01-14        Курьер  Самодоставка      40560    Доставлен   \n",
       "3        2021-01-15     Самовывоз         3PL 1     301202    Доставлен   \n",
       "4        2021-01-25     Самовывоз         3PL 1     946233    Доставлен   \n",
       "\n",
       "             customer_cluster           warehouse_cluster  \n",
       "0           Кластер Краснодар              Кластер Москва  \n",
       "1  Кластер Московская область  Кластер Московская область  \n",
       "2  Кластер Московская область  Кластер Московская область  \n",
       "3     Кластер Санкт-Петербург              Кластер Москва  \n",
       "4     Кластер Санкт-Петербург     Кластер Санкт-Петербург  "
      ]
     },
     "execution_count": 24,
     "metadata": {},
     "output_type": "execute_result"
    }
   ],
   "source": [
    "df_log.head()"
   ]
  },
  {
   "cell_type": "markdown",
   "metadata": {},
   "source": [
    " "
   ]
  },
  {
   "cell_type": "markdown",
   "metadata": {},
   "source": [
    " "
   ]
  },
  {
   "cell_type": "markdown",
   "metadata": {},
   "source": [
    "# product_online"
   ]
  },
  {
   "cell_type": "code",
   "execution_count": 25,
   "metadata": {},
   "outputs": [],
   "source": [
    "df_prod = product_online"
   ]
  },
  {
   "cell_type": "markdown",
   "metadata": {},
   "source": [
    "**number_order** - уникальный номер заказа клиента (в столбце номер может повторяться, т.к. так как в одном заказе может быть несколько товаров)\n",
    "\n",
    "**product_ID** - уникальный номер товара (В столбце номер может повторяться, т.к. так как один товар может быть в заказах нескольких клиентов)\n",
    "\n",
    "**product_price** - стоимость одной единицы товара в рублях\n",
    "\n",
    "**amount** - количество единиц товара в заказе"
   ]
  },
  {
   "cell_type": "code",
   "execution_count": 26,
   "metadata": {},
   "outputs": [
    {
     "data": {
      "text/html": [
       "<div>\n",
       "<style scoped>\n",
       "    .dataframe tbody tr th:only-of-type {\n",
       "        vertical-align: middle;\n",
       "    }\n",
       "\n",
       "    .dataframe tbody tr th {\n",
       "        vertical-align: top;\n",
       "    }\n",
       "\n",
       "    .dataframe thead th {\n",
       "        text-align: right;\n",
       "    }\n",
       "</style>\n",
       "<table border=\"1\" class=\"dataframe\">\n",
       "  <thead>\n",
       "    <tr style=\"text-align: right;\">\n",
       "      <th></th>\n",
       "      <th>number_order</th>\n",
       "      <th>product_ID</th>\n",
       "      <th>product_price</th>\n",
       "      <th>amount</th>\n",
       "    </tr>\n",
       "  </thead>\n",
       "  <tbody>\n",
       "    <tr>\n",
       "      <th>0</th>\n",
       "      <td>313655114</td>\n",
       "      <td>983587801</td>\n",
       "      <td>5512.44</td>\n",
       "      <td>1</td>\n",
       "    </tr>\n",
       "    <tr>\n",
       "      <th>1</th>\n",
       "      <td>313655114</td>\n",
       "      <td>983587158</td>\n",
       "      <td>4070.35</td>\n",
       "      <td>2</td>\n",
       "    </tr>\n",
       "    <tr>\n",
       "      <th>2</th>\n",
       "      <td>313655114</td>\n",
       "      <td>983582669</td>\n",
       "      <td>3591.97</td>\n",
       "      <td>1</td>\n",
       "    </tr>\n",
       "    <tr>\n",
       "      <th>3</th>\n",
       "      <td>315229153</td>\n",
       "      <td>983589424</td>\n",
       "      <td>4433.23</td>\n",
       "      <td>3</td>\n",
       "    </tr>\n",
       "    <tr>\n",
       "      <th>4</th>\n",
       "      <td>315229153</td>\n",
       "      <td>983587827</td>\n",
       "      <td>2862.50</td>\n",
       "      <td>2</td>\n",
       "    </tr>\n",
       "    <tr>\n",
       "      <th>...</th>\n",
       "      <td>...</td>\n",
       "      <td>...</td>\n",
       "      <td>...</td>\n",
       "      <td>...</td>\n",
       "    </tr>\n",
       "    <tr>\n",
       "      <th>12228</th>\n",
       "      <td>3649144391</td>\n",
       "      <td>983583847</td>\n",
       "      <td>8146.30</td>\n",
       "      <td>2</td>\n",
       "    </tr>\n",
       "    <tr>\n",
       "      <th>12229</th>\n",
       "      <td>3649144391</td>\n",
       "      <td>983581209</td>\n",
       "      <td>2816.34</td>\n",
       "      <td>4</td>\n",
       "    </tr>\n",
       "    <tr>\n",
       "      <th>12230</th>\n",
       "      <td>365435447</td>\n",
       "      <td>983582430</td>\n",
       "      <td>2937.91</td>\n",
       "      <td>4</td>\n",
       "    </tr>\n",
       "    <tr>\n",
       "      <th>12231</th>\n",
       "      <td>365435447</td>\n",
       "      <td>983589903</td>\n",
       "      <td>7626.13</td>\n",
       "      <td>4</td>\n",
       "    </tr>\n",
       "    <tr>\n",
       "      <th>12232</th>\n",
       "      <td>365435447</td>\n",
       "      <td>983582743</td>\n",
       "      <td>5993.60</td>\n",
       "      <td>2</td>\n",
       "    </tr>\n",
       "  </tbody>\n",
       "</table>\n",
       "<p>12233 rows × 4 columns</p>\n",
       "</div>"
      ],
      "text/plain": [
       "       number_order  product_ID  product_price  amount\n",
       "0         313655114   983587801        5512.44       1\n",
       "1         313655114   983587158        4070.35       2\n",
       "2         313655114   983582669        3591.97       1\n",
       "3         315229153   983589424        4433.23       3\n",
       "4         315229153   983587827        2862.50       2\n",
       "...             ...         ...            ...     ...\n",
       "12228    3649144391   983583847        8146.30       2\n",
       "12229    3649144391   983581209        2816.34       4\n",
       "12230     365435447   983582430        2937.91       4\n",
       "12231     365435447   983589903        7626.13       4\n",
       "12232     365435447   983582743        5993.60       2\n",
       "\n",
       "[12233 rows x 4 columns]"
      ]
     },
     "execution_count": 26,
     "metadata": {},
     "output_type": "execute_result"
    }
   ],
   "source": [
    "df_prod"
   ]
  },
  {
   "cell_type": "code",
   "execution_count": 27,
   "metadata": {},
   "outputs": [
    {
     "data": {
      "text/plain": [
       "number_order       int64\n",
       "product_ID         int64\n",
       "product_price    float64\n",
       "amount             int16\n",
       "dtype: object"
      ]
     },
     "execution_count": 27,
     "metadata": {},
     "output_type": "execute_result"
    }
   ],
   "source": [
    "df_prod.dtypes"
   ]
  },
  {
   "cell_type": "code",
   "execution_count": 28,
   "metadata": {
    "scrolled": true
   },
   "outputs": [
    {
     "data": {
      "text/plain": [
       "number_order     0\n",
       "product_ID       0\n",
       "product_price    0\n",
       "amount           0\n",
       "dtype: int64"
      ]
     },
     "execution_count": 28,
     "metadata": {},
     "output_type": "execute_result"
    }
   ],
   "source": [
    "df_prod.isna().sum()"
   ]
  },
  {
   "cell_type": "markdown",
   "metadata": {},
   "source": [
    " "
   ]
  },
  {
   "cell_type": "markdown",
   "metadata": {},
   "source": [
    " "
   ]
  },
  {
   "cell_type": "markdown",
   "metadata": {},
   "source": [
    " "
   ]
  },
  {
   "cell_type": "markdown",
   "metadata": {},
   "source": [
    "# returns_online"
   ]
  },
  {
   "cell_type": "code",
   "execution_count": 29,
   "metadata": {},
   "outputs": [],
   "source": [
    "df_prod = product_online"
   ]
  },
  {
   "cell_type": "code",
   "execution_count": 30,
   "metadata": {},
   "outputs": [
    {
     "data": {
      "text/html": [
       "<div>\n",
       "<style scoped>\n",
       "    .dataframe tbody tr th:only-of-type {\n",
       "        vertical-align: middle;\n",
       "    }\n",
       "\n",
       "    .dataframe tbody tr th {\n",
       "        vertical-align: top;\n",
       "    }\n",
       "\n",
       "    .dataframe thead th {\n",
       "        text-align: right;\n",
       "    }\n",
       "</style>\n",
       "<table border=\"1\" class=\"dataframe\">\n",
       "  <thead>\n",
       "    <tr style=\"text-align: right;\">\n",
       "      <th></th>\n",
       "      <th>number_order</th>\n",
       "      <th>product_ID</th>\n",
       "      <th>product_price</th>\n",
       "      <th>amount</th>\n",
       "    </tr>\n",
       "  </thead>\n",
       "  <tbody>\n",
       "    <tr>\n",
       "      <th>0</th>\n",
       "      <td>313655114</td>\n",
       "      <td>983587801</td>\n",
       "      <td>5512.44</td>\n",
       "      <td>1</td>\n",
       "    </tr>\n",
       "    <tr>\n",
       "      <th>1</th>\n",
       "      <td>313655114</td>\n",
       "      <td>983587158</td>\n",
       "      <td>4070.35</td>\n",
       "      <td>2</td>\n",
       "    </tr>\n",
       "    <tr>\n",
       "      <th>2</th>\n",
       "      <td>313655114</td>\n",
       "      <td>983582669</td>\n",
       "      <td>3591.97</td>\n",
       "      <td>1</td>\n",
       "    </tr>\n",
       "    <tr>\n",
       "      <th>3</th>\n",
       "      <td>315229153</td>\n",
       "      <td>983589424</td>\n",
       "      <td>4433.23</td>\n",
       "      <td>3</td>\n",
       "    </tr>\n",
       "    <tr>\n",
       "      <th>4</th>\n",
       "      <td>315229153</td>\n",
       "      <td>983587827</td>\n",
       "      <td>2862.50</td>\n",
       "      <td>2</td>\n",
       "    </tr>\n",
       "    <tr>\n",
       "      <th>...</th>\n",
       "      <td>...</td>\n",
       "      <td>...</td>\n",
       "      <td>...</td>\n",
       "      <td>...</td>\n",
       "    </tr>\n",
       "    <tr>\n",
       "      <th>12228</th>\n",
       "      <td>3649144391</td>\n",
       "      <td>983583847</td>\n",
       "      <td>8146.30</td>\n",
       "      <td>2</td>\n",
       "    </tr>\n",
       "    <tr>\n",
       "      <th>12229</th>\n",
       "      <td>3649144391</td>\n",
       "      <td>983581209</td>\n",
       "      <td>2816.34</td>\n",
       "      <td>4</td>\n",
       "    </tr>\n",
       "    <tr>\n",
       "      <th>12230</th>\n",
       "      <td>365435447</td>\n",
       "      <td>983582430</td>\n",
       "      <td>2937.91</td>\n",
       "      <td>4</td>\n",
       "    </tr>\n",
       "    <tr>\n",
       "      <th>12231</th>\n",
       "      <td>365435447</td>\n",
       "      <td>983589903</td>\n",
       "      <td>7626.13</td>\n",
       "      <td>4</td>\n",
       "    </tr>\n",
       "    <tr>\n",
       "      <th>12232</th>\n",
       "      <td>365435447</td>\n",
       "      <td>983582743</td>\n",
       "      <td>5993.60</td>\n",
       "      <td>2</td>\n",
       "    </tr>\n",
       "  </tbody>\n",
       "</table>\n",
       "<p>12233 rows × 4 columns</p>\n",
       "</div>"
      ],
      "text/plain": [
       "       number_order  product_ID  product_price  amount\n",
       "0         313655114   983587801        5512.44       1\n",
       "1         313655114   983587158        4070.35       2\n",
       "2         313655114   983582669        3591.97       1\n",
       "3         315229153   983589424        4433.23       3\n",
       "4         315229153   983587827        2862.50       2\n",
       "...             ...         ...            ...     ...\n",
       "12228    3649144391   983583847        8146.30       2\n",
       "12229    3649144391   983581209        2816.34       4\n",
       "12230     365435447   983582430        2937.91       4\n",
       "12231     365435447   983589903        7626.13       4\n",
       "12232     365435447   983582743        5993.60       2\n",
       "\n",
       "[12233 rows x 4 columns]"
      ]
     },
     "execution_count": 30,
     "metadata": {},
     "output_type": "execute_result"
    }
   ],
   "source": [
    "df_prod "
   ]
  },
  {
   "cell_type": "code",
   "execution_count": 31,
   "metadata": {},
   "outputs": [
    {
     "data": {
      "text/plain": [
       "number_order       int64\n",
       "product_ID         int64\n",
       "product_price    float64\n",
       "amount             int16\n",
       "dtype: object"
      ]
     },
     "execution_count": 31,
     "metadata": {},
     "output_type": "execute_result"
    }
   ],
   "source": [
    "df_prod.dtypes"
   ]
  },
  {
   "cell_type": "code",
   "execution_count": 32,
   "metadata": {},
   "outputs": [
    {
     "data": {
      "text/plain": [
       "number_order     0\n",
       "product_ID       0\n",
       "product_price    0\n",
       "amount           0\n",
       "dtype: int64"
      ]
     },
     "execution_count": 32,
     "metadata": {},
     "output_type": "execute_result"
    }
   ],
   "source": [
    "df_prod.isna().sum()"
   ]
  },
  {
   "cell_type": "markdown",
   "metadata": {},
   "source": [
    " "
   ]
  },
  {
   "cell_type": "markdown",
   "metadata": {},
   "source": [
    " "
   ]
  },
  {
   "cell_type": "markdown",
   "metadata": {},
   "source": [
    " "
   ]
  },
  {
   "cell_type": "markdown",
   "metadata": {},
   "source": [
    "# ЗАДАЧА 1."
   ]
  },
  {
   "cell_type": "markdown",
   "metadata": {},
   "source": [
    "Посчитать **OnTime** - Метрика своевременности доставки. (Доставили в плановую дату доставки или нет), в %\n",
    "\n",
    " - Необходимо видеть изменение метрики по дням;\n",
    "\n",
    " - Необходимы разрезы по перевозчикам, по типу доставки, по кластерам склада, по таймслотам;"
   ]
  }
 ],
 "metadata": {
  "kernelspec": {
   "display_name": "Python 3",
   "language": "python",
   "name": "python3"
  },
  "language_info": {
   "codemirror_mode": {
    "name": "ipython",
    "version": 3
   },
   "file_extension": ".py",
   "mimetype": "text/x-python",
   "name": "python",
   "nbconvert_exporter": "python",
   "pygments_lexer": "ipython3",
   "version": "3.7.3"
  }
 },
 "nbformat": 4,
 "nbformat_minor": 4
}
